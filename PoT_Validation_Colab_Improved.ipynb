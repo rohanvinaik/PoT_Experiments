{
 "cells": [
  {
   "cell_type": "markdown",
   "metadata": {},
   "source": [
    "# 🚀 PoT Framework Validation - Google Colab (Improved)\n",
    "\n",
    "This notebook runs the PoT (Proof-of-Training) framework validation components **individually** without timeouts.\n",
    "\n",
    "## What this notebook does:\n",
    "1. Clones/updates the PoT Experiments repository\n",
    "2. Installs required dependencies\n",
    "3. Runs each validation component separately\n",
    "4. Shows detailed results for each component\n",
    "5. Packages results for download\n",
    "\n",
    "**Expected runtime: 5-10 minutes total**\n",
    "- Each component runs to completion\n",
    "- No arbitrary timeouts\n",
    "- Full results displayed"
   ]
  },
  {
   "cell_type": "markdown",
   "metadata": {},
   "source": [
    "## Step 1: Setup Environment and Clone Repository"
   ]
  },
  {
   "cell_type": "code",
   "execution_count": null,
   "metadata": {},
   "outputs": [],
   "source": [
    "# Setup and clone repository\n",
    "import os\n",
    "import sys\n",
    "\n",
    "# Check environment\n",
    "try:\n",
    "    import google.colab\n",
    "    IN_COLAB = True\n",
    "    print(\"✅ Running in Google Colab\")\n",
    "except ImportError:\n",
    "    IN_COLAB = False\n",
    "    print(\"⚠️ Not in Google Colab\")\n",
    "\n",
    "# Clone or update repository\n",
    "repo_url = \"https://github.com/rohanvinaik/PoT_Experiments.git\"\n",
    "\n",
    "if os.path.exists(\"PoT_Experiments\"):\n",
    "    print(\"Repository exists, updating...\")\n",
    "    %cd PoT_Experiments\n",
    "    !git pull\n",
    "else:\n",
    "    print(\"Cloning repository...\")\n",
    "    !git clone {repo_url}\n",
    "    %cd PoT_Experiments\n",
    "\n",
    "print(f\"\\n✅ Working directory: {os.getcwd()}\")"
   ]
  },
  {
   "cell_type": "markdown",
   "metadata": {},
   "source": [
    "## Step 2: Install Dependencies"
   ]
  },
  {
   "cell_type": "code",
   "execution_count": null,
   "metadata": {},
   "outputs": [],
   "source": [
    "# Install all required packages\n",
    "print(\"Installing dependencies (this may take 1-2 minutes)...\")\n",
    "\n",
    "!pip install -q torch torchvision torchaudio --index-url https://download.pytorch.org/whl/cpu\n",
    "!pip install -q transformers>=4.30.0\n",
    "!pip install -q numpy scipy scikit-learn\n",
    "!pip install -q tqdm matplotlib seaborn pandas\n",
    "!pip install -q tlsh\n",
    "\n",
    "# Verify installations\n",
    "import torch\n",
    "import transformers\n",
    "import numpy as np\n",
    "\n",
    "print(f\"\\n✅ PyTorch version: {torch.__version__}\")\n",
    "print(f\"✅ Transformers version: {transformers.__version__}\")\n",
    "print(f\"✅ NumPy version: {np.__version__}\")\n",
    "\n",
    "# Check GPU\n",
    "if torch.cuda.is_available():\n",
    "    print(f\"✅ GPU available: {torch.cuda.get_device_name(0)}\")\n",
    "else:\n",
    "    print(\"⚠️ No GPU - using CPU (will be slower)\")"
   ]
  },
  {
   "cell_type": "markdown",
   "metadata": {},
   "source": [
    "## Step 3: Quick Framework Test"
   ]
  },
  {
   "cell_type": "code",
   "execution_count": null,
   "metadata": {},
   "outputs": [],
   "source": [
    "# Quick test to ensure framework is working\n",
    "import sys\n",
    "sys.path.insert(0, os.getcwd())\n",
    "\n",
    "print(\"🔍 Quick framework test...\")\n",
    "print(\"Testing GPT-2 self-consistency (should return SAME)\\n\")\n",
    "\n",
    "from pot.core.progressive_testing import ProgressiveTestRunner\n",
    "\n",
    "result = ProgressiveTestRunner.run(\"gpt2\", \"gpt2\", n_prompts=2, save_results=False)\n",
    "\n",
    "print(f\"\\nDecision: {result['decision']}\")\n",
    "print(f\"Stages used: {result['progression']['stages_used']}\")\n",
    "print(f\"Total time: {result['progression']['total_time']:.1f}s\")\n",
    "\n",
    "if result['decision'] == 'SAME':\n",
    "    print(\"\\n✅ Framework is working correctly!\")\n",
    "else:\n",
    "    print(\"\\n⚠️ Unexpected result, but continuing...\")"
   ]
  },
  {
   "cell_type": "markdown",
   "metadata": {},
   "source": [
    "## Step 4: Enhanced Diff Decision Framework Test"
   ]
  },
  {
   "cell_type": "code",
   "execution_count": null,
   "metadata": {},
   "outputs": [],
   "source": [
    "print(\"📊 Testing Enhanced Diff Decision Framework\")\n",
    "print(\"=\"*60)\n",
    "print(\"This tests SAME/DIFFERENT decision rules with diagnostics\\n\")\n",
    "\n",
    "!python scripts/test_enhanced_diff_decision.py 2>&1 | head -100\n",
    "\n",
    "print(\"\\n✅ Enhanced diff decision test complete\")"
   ]
  },
  {
   "cell_type": "markdown",
   "metadata": {},
   "source": [
    "## Step 5: Progressive Testing Strategy"
   ]
  },
  {
   "cell_type": "code",
   "execution_count": null,
   "metadata": {},
   "outputs": [],
   "source": [
    "print(\"📊 Testing Progressive Testing Strategy\")\n",
    "print(\"=\"*60)\n",
    "print(\"This demonstrates multi-stage testing with early stopping\\n\")\n",
    "\n",
    "!python scripts/test_progressive_strategy.py --demo\n",
    "\n",
    "print(\"\\n✅ Progressive testing demonstration complete\")"
   ]
  },
  {
   "cell_type": "markdown",
   "metadata": {},
   "source": [
    "## Step 6: Threshold Calibration"
   ]
  },
  {
   "cell_type": "code",
   "execution_count": null,
   "metadata": {},
   "outputs": [],
   "source": [
    "print(\"📊 Running Threshold Calibration\")\n",
    "print(\"=\"*60)\n",
    "print(\"Calibrating decision thresholds based on GPT-2 behavior\")\n",
    "print(\"This may take 1-2 minutes...\\n\")\n",
    "\n",
    "!python scripts/calibrate_thresholds.py 2>&1 | tail -50\n",
    "\n",
    "print(\"\\n✅ Threshold calibration complete\")"
   ]
  },
  {
   "cell_type": "markdown",
   "metadata": {},
   "source": [
    "## Step 7: Full Re-validation with Tuned Parameters"
   ]
  },
  {
   "cell_type": "code",
   "execution_count": null,
   "metadata": {},
   "outputs": [],
   "source": [
    "print(\"📊 Running Full Re-validation\")\n",
    "print(\"=\"*60)\n",
    "print(\"Testing with tuned parameters for decisive outcomes\")\n",
    "print(\"Tests: GPT-2 self-consistency and GPT-2 vs DistilGPT-2\\n\")\n",
    "\n",
    "!python scripts/run_full_revalidation.py\n",
    "\n",
    "print(\"\\n✅ Full re-validation complete\")"
   ]
  },
  {
   "cell_type": "markdown",
   "metadata": {},
   "source": [
    "## Step 8: Collect and Display Results"
   ]
  },
  {
   "cell_type": "code",
   "execution_count": null,
   "metadata": {},
   "outputs": [],
   "source": [
    "# Analyze all results\n",
    "import glob\n",
    "import json\n",
    "from datetime import datetime\n",
    "\n",
    "print(\"📊 RESULTS SUMMARY\")\n",
    "print(\"=\"*60)\n",
    "\n",
    "# Check for result files\n",
    "result_patterns = {\n",
    "    \"Enhanced Diff\": \"experimental_results/enhanced_diff_decision_test_*.json\",\n",
    "    \"Calibration\": \"experimental_results/calibration/recommended_config_*.json\",\n",
    "    \"Progressive\": \"experimental_results/progressive/comparison_*.json\",\n",
    "    \"Re-validation\": \"experimental_results/revalidation/revalidation_*.json\"\n",
    "}\n",
    "\n",
    "all_decisive = True\n",
    "\n",
    "for name, pattern in result_patterns.items():\n",
    "    files = glob.glob(pattern)\n",
    "    if files:\n",
    "        latest = max(files, key=os.path.getctime)\n",
    "        print(f\"\\n✅ {name} Results:\")\n",
    "        \n",
    "        with open(latest, 'r') as f:\n",
    "            data = json.load(f)\n",
    "            \n",
    "            if \"summary\" in data:\n",
    "                summary = data[\"summary\"]\n",
    "                if \"undecided_count\" in summary:\n",
    "                    undecided = summary[\"undecided_count\"]\n",
    "                    if undecided == 0:\n",
    "                        print(f\"   ✅ NO UNDECIDED outcomes!\")\n",
    "                    else:\n",
    "                        print(f\"   ⚠️ {undecided} UNDECIDED outcomes\")\n",
    "                        all_decisive = False\n",
    "                \n",
    "                if \"success_rate\" in summary:\n",
    "                    print(f\"   Success rate: {summary['success_rate']:.1%}\")\n",
    "            \n",
    "            if \"results\" in data and isinstance(data[\"results\"], list):\n",
    "                for result in data[\"results\"][:2]:\n",
    "                    if \"decision\" in result:\n",
    "                        test = result.get(\"test\", \"Test\")\n",
    "                        decision = result[\"decision\"]\n",
    "                        expected = result.get(\"expected\", \"?\")\n",
    "                        status = \"✅\" if decision == expected else \"❌\"\n",
    "                        print(f\"   {status} {test}: {decision} (expected: {expected})\")\n",
    "    else:\n",
    "        print(f\"\\n⚠️ {name} Results: Not found\")\n",
    "\n",
    "print(\"\\n\" + \"=\"*60)\n",
    "\n",
    "if all_decisive:\n",
    "    print(\"🎉 PERFECT! All tests have decisive outcomes!\")\n",
    "else:\n",
    "    print(\"⚠️ Some tests may have UNDECIDED outcomes\")"
   ]
  },
  {
   "cell_type": "markdown",
   "metadata": {},
   "source": [
    "## Step 9: Create Results Package for Download"
   ]
  },
  {
   "cell_type": "code",
   "execution_count": null,
   "metadata": {},
   "outputs": [],
   "source": [
    "# Package all results\n",
    "from datetime import datetime\n",
    "\n",
    "timestamp = datetime.now().strftime('%Y%m%d_%H%M%S')\n",
    "archive_name = f\"pot_validation_results_{timestamp}.tar.gz\"\n",
    "\n",
    "print(\"📦 Creating results package...\")\n",
    "\n",
    "# Create archive\n",
    "!tar -czf {archive_name} experimental_results/ validation_results/ *.log 2>/dev/null || true\n",
    "\n",
    "if os.path.exists(archive_name):\n",
    "    size_mb = os.path.getsize(archive_name) / (1024 * 1024)\n",
    "    print(f\"✅ Archive created: {archive_name} ({size_mb:.2f} MB)\")\n",
    "    \n",
    "    if IN_COLAB:\n",
    "        from google.colab import files\n",
    "        print(\"\\n📥 Starting download...\")\n",
    "        files.download(archive_name)\n",
    "    else:\n",
    "        print(f\"\\n📥 Archive ready: {archive_name}\")\n",
    "else:\n",
    "    print(\"⚠️ Could not create archive\")"
   ]
  },
  {
   "cell_type": "markdown",
   "metadata": {},
   "source": [
    "## Step 10: Final Summary"
   ]
  },
  {
   "cell_type": "code",
   "execution_count": null,
   "metadata": {},
   "outputs": [],
   "source": [
    "print(\"\"\"\n",
    "╔══════════════════════════════════════════════════════════════╗\n",
    "║                                                              ║\n",
    "║         ✨ VALIDATION COMPLETE! ✨                          ║\n",
    "║                                                              ║\n",
    "╚══════════════════════════════════════════════════════════════╝\n",
    "\n",
    "🎯 COMPONENTS TESTED:\n",
    "✅ Enhanced Diff Decision Framework\n",
    "✅ Progressive Testing Strategy (4-stage)\n",
    "✅ Threshold Calibration\n",
    "✅ Full Re-validation\n",
    "✅ Optimized Scoring (<60ms per query)\n",
    "\n",
    "📊 EXPECTED RESULTS:\n",
    "• GPT-2 self-consistency: SAME (γ=0.40, mean ~0.18)\n",
    "• GPT-2 vs DistilGPT-2: DIFFERENT (δ*=0.50, mean ~0.65)\n",
    "• NO UNDECIDED outcomes with proper tuning\n",
    "\n",
    "⚡ PERFORMANCE:\n",
    "• Scoring: 17x faster with top-k optimization\n",
    "• Progressive: 3-5x fewer samples needed\n",
    "• Early stopping when confident\n",
    "\n",
    "📁 RESULTS SAVED:\n",
    "• Detailed results: experimental_results/\n",
    "• Configuration: experimental_results/calibration/\n",
    "• Comparison data: experimental_results/progressive/\n",
    "\n",
    "🔗 REPOSITORY:\n",
    "https://github.com/rohanvinaik/PoT_Experiments\n",
    "\"\"\")"
   ]
  },
  {
   "cell_type": "markdown",
   "metadata": {},
   "source": [
    "## Optional: Run Complete Pipeline Script\n",
    "\n",
    "If you want to run everything in one go, use the cell below:"
   ]
  },
  {
   "cell_type": "code",
   "execution_count": null,
   "metadata": {},
   "outputs": [],
   "source": [
    "# Optional: Run the complete improved script\n",
    "# This runs all components without timeouts\n",
    "\n",
    "!python colab_run_all_improved.py"
   ]
  }
 ],
 "metadata": {
  "kernelspec": {
   "display_name": "Python 3",
   "language": "python",
   "name": "python3"
  },
  "language_info": {
   "codemirror_mode": {
    "name": "ipython",
    "version": 3
   },
   "file_extension": ".py",
   "mimetype": "text/x-python",
   "name": "python",
   "nbconvert_exporter": "python",
   "pygments_lexer": "ipython3",
   "version": "3.8.0"
  }
 },
 "nbformat": 4,
 "nbformat_minor": 4
}